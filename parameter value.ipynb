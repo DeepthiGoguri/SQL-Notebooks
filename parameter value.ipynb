{
    "metadata": {
        "kernelspec": {
            "name": "python3",
            "display_name": "Python 3 (ipykernel)",
            "language": "python"
        },
        "language_info": {
            "name": "python",
            "version": "3.8.10",
            "mimetype": "text/x-python",
            "codemirror_mode": {
                "name": "ipython",
                "version": 3
            },
            "pygments_lexer": "ipython3",
            "nbconvert_exporter": "python",
            "file_extension": ".py"
        }
    },
    "nbformat_minor": 2,
    "nbformat": 4,
    "cells": [
        {
            "cell_type": "code",
            "source": [
                "a=1\r\n",
                "b=3"
            ],
            "metadata": {
                "azdata_cell_guid": "6218e7cc-fafa-4d6d-b4bb-4a52413caa13",
                "tags": [
                    "parameters"
                ]
            },
            "outputs": [],
            "execution_count": 14
        },
        {
            "cell_type": "code",
            "source": [
                "print(\"Multiplication: \" + str(a*b))"
            ],
            "metadata": {
                "azdata_cell_guid": "b8f50b65-8e8e-4793-8a31-f4848595f244",
                "tags": []
            },
            "outputs": [
                {
                    "name": "stdout",
                    "text": "Multiplication: 3\n",
                    "output_type": "stream"
                }
            ],
            "execution_count": 17
        }
    ]
}